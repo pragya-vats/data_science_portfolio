{
 "cells": [
  {
   "cell_type": "code",
   "execution_count": 1,
   "id": "08744086",
   "metadata": {},
   "outputs": [],
   "source": [
    "import pandas as pd\n",
    "import seaborn as sns\n",
    "import numpy as np\n",
    "import matplotlib.pyplot as plt\n",
    "%matplotlib inline"
   ]
  },
  {
   "cell_type": "code",
   "execution_count": 2,
   "id": "e4e88784",
   "metadata": {},
   "outputs": [],
   "source": [
    "df0 = pd.read_csv(\"kaggle_carprediction_dataset.csv\")"
   ]
  },
  {
   "cell_type": "code",
   "execution_count": 3,
   "id": "d2930673",
   "metadata": {},
   "outputs": [
    {
     "data": {
      "text/html": [
       "<div>\n",
       "<style scoped>\n",
       "    .dataframe tbody tr th:only-of-type {\n",
       "        vertical-align: middle;\n",
       "    }\n",
       "\n",
       "    .dataframe tbody tr th {\n",
       "        vertical-align: top;\n",
       "    }\n",
       "\n",
       "    .dataframe thead th {\n",
       "        text-align: right;\n",
       "    }\n",
       "</style>\n",
       "<table border=\"1\" class=\"dataframe\">\n",
       "  <thead>\n",
       "    <tr style=\"text-align: right;\">\n",
       "      <th></th>\n",
       "      <th>name</th>\n",
       "      <th>year</th>\n",
       "      <th>selling_price</th>\n",
       "      <th>km_driven</th>\n",
       "      <th>fuel</th>\n",
       "      <th>seller_type</th>\n",
       "      <th>transmission</th>\n",
       "      <th>owner</th>\n",
       "    </tr>\n",
       "  </thead>\n",
       "  <tbody>\n",
       "    <tr>\n",
       "      <th>0</th>\n",
       "      <td>Maruti 800 AC</td>\n",
       "      <td>2007</td>\n",
       "      <td>60000</td>\n",
       "      <td>70000</td>\n",
       "      <td>Petrol</td>\n",
       "      <td>Individual</td>\n",
       "      <td>Manual</td>\n",
       "      <td>First Owner</td>\n",
       "    </tr>\n",
       "    <tr>\n",
       "      <th>1</th>\n",
       "      <td>Maruti Wagon R LXI Minor</td>\n",
       "      <td>2007</td>\n",
       "      <td>135000</td>\n",
       "      <td>50000</td>\n",
       "      <td>Petrol</td>\n",
       "      <td>Individual</td>\n",
       "      <td>Manual</td>\n",
       "      <td>First Owner</td>\n",
       "    </tr>\n",
       "    <tr>\n",
       "      <th>2</th>\n",
       "      <td>Hyundai Verna 1.6 SX</td>\n",
       "      <td>2012</td>\n",
       "      <td>600000</td>\n",
       "      <td>100000</td>\n",
       "      <td>Diesel</td>\n",
       "      <td>Individual</td>\n",
       "      <td>Manual</td>\n",
       "      <td>First Owner</td>\n",
       "    </tr>\n",
       "    <tr>\n",
       "      <th>3</th>\n",
       "      <td>Datsun RediGO T Option</td>\n",
       "      <td>2017</td>\n",
       "      <td>250000</td>\n",
       "      <td>46000</td>\n",
       "      <td>Petrol</td>\n",
       "      <td>Individual</td>\n",
       "      <td>Manual</td>\n",
       "      <td>First Owner</td>\n",
       "    </tr>\n",
       "    <tr>\n",
       "      <th>4</th>\n",
       "      <td>Honda Amaze VX i-DTEC</td>\n",
       "      <td>2014</td>\n",
       "      <td>450000</td>\n",
       "      <td>141000</td>\n",
       "      <td>Diesel</td>\n",
       "      <td>Individual</td>\n",
       "      <td>Manual</td>\n",
       "      <td>Second Owner</td>\n",
       "    </tr>\n",
       "  </tbody>\n",
       "</table>\n",
       "</div>"
      ],
      "text/plain": [
       "                       name  year  selling_price  km_driven    fuel  \\\n",
       "0             Maruti 800 AC  2007          60000      70000  Petrol   \n",
       "1  Maruti Wagon R LXI Minor  2007         135000      50000  Petrol   \n",
       "2      Hyundai Verna 1.6 SX  2012         600000     100000  Diesel   \n",
       "3    Datsun RediGO T Option  2017         250000      46000  Petrol   \n",
       "4     Honda Amaze VX i-DTEC  2014         450000     141000  Diesel   \n",
       "\n",
       "  seller_type transmission         owner  \n",
       "0  Individual       Manual   First Owner  \n",
       "1  Individual       Manual   First Owner  \n",
       "2  Individual       Manual   First Owner  \n",
       "3  Individual       Manual   First Owner  \n",
       "4  Individual       Manual  Second Owner  "
      ]
     },
     "execution_count": 3,
     "metadata": {},
     "output_type": "execute_result"
    }
   ],
   "source": [
    "df = df0.copy()\n",
    "df.head()"
   ]
  },
  {
   "cell_type": "code",
   "execution_count": 4,
   "id": "cfc5a2b9",
   "metadata": {},
   "outputs": [
    {
     "data": {
      "text/plain": [
       "(4340, 8)"
      ]
     },
     "execution_count": 4,
     "metadata": {},
     "output_type": "execute_result"
    }
   ],
   "source": [
    "df.shape"
   ]
  },
  {
   "cell_type": "code",
   "execution_count": 5,
   "id": "558ff202",
   "metadata": {},
   "outputs": [
    {
     "name": "stdout",
     "output_type": "stream",
     "text": [
      "['Individual' 'Dealer' 'Trustmark Dealer']\n",
      "['Manual' 'Automatic']\n",
      "['First Owner' 'Second Owner' 'Fourth & Above Owner' 'Third Owner'\n",
      " 'Test Drive Car']\n",
      "['Petrol' 'Diesel' 'CNG' 'LPG' 'Electric']\n"
     ]
    }
   ],
   "source": [
    "#print the unique values of categorical variables\n",
    "\n",
    "print(df[\"seller_type\"].unique())\n",
    "print(df[\"transmission\"].unique())\n",
    "print(df[\"owner\"].unique())\n",
    "print(df[\"fuel\"].unique())"
   ]
  },
  {
   "cell_type": "code",
   "execution_count": 6,
   "id": "ffdb5987",
   "metadata": {},
   "outputs": [
    {
     "data": {
      "text/plain": [
       "name             0\n",
       "year             0\n",
       "selling_price    0\n",
       "km_driven        0\n",
       "fuel             0\n",
       "seller_type      0\n",
       "transmission     0\n",
       "owner            0\n",
       "dtype: int64"
      ]
     },
     "execution_count": 6,
     "metadata": {},
     "output_type": "execute_result"
    }
   ],
   "source": [
    "#checking for the null values\n",
    "\n",
    "df.isnull().sum()"
   ]
  },
  {
   "cell_type": "code",
   "execution_count": 7,
   "id": "ca09289f",
   "metadata": {},
   "outputs": [
    {
     "data": {
      "text/html": [
       "<div>\n",
       "<style scoped>\n",
       "    .dataframe tbody tr th:only-of-type {\n",
       "        vertical-align: middle;\n",
       "    }\n",
       "\n",
       "    .dataframe tbody tr th {\n",
       "        vertical-align: top;\n",
       "    }\n",
       "\n",
       "    .dataframe thead th {\n",
       "        text-align: right;\n",
       "    }\n",
       "</style>\n",
       "<table border=\"1\" class=\"dataframe\">\n",
       "  <thead>\n",
       "    <tr style=\"text-align: right;\">\n",
       "      <th></th>\n",
       "      <th>year</th>\n",
       "      <th>selling_price</th>\n",
       "      <th>km_driven</th>\n",
       "    </tr>\n",
       "  </thead>\n",
       "  <tbody>\n",
       "    <tr>\n",
       "      <th>count</th>\n",
       "      <td>4340.000000</td>\n",
       "      <td>4.340000e+03</td>\n",
       "      <td>4340.000000</td>\n",
       "    </tr>\n",
       "    <tr>\n",
       "      <th>mean</th>\n",
       "      <td>2013.090783</td>\n",
       "      <td>5.041273e+05</td>\n",
       "      <td>66215.777419</td>\n",
       "    </tr>\n",
       "    <tr>\n",
       "      <th>std</th>\n",
       "      <td>4.215344</td>\n",
       "      <td>5.785487e+05</td>\n",
       "      <td>46644.102194</td>\n",
       "    </tr>\n",
       "    <tr>\n",
       "      <th>min</th>\n",
       "      <td>1992.000000</td>\n",
       "      <td>2.000000e+04</td>\n",
       "      <td>1.000000</td>\n",
       "    </tr>\n",
       "    <tr>\n",
       "      <th>25%</th>\n",
       "      <td>2011.000000</td>\n",
       "      <td>2.087498e+05</td>\n",
       "      <td>35000.000000</td>\n",
       "    </tr>\n",
       "    <tr>\n",
       "      <th>50%</th>\n",
       "      <td>2014.000000</td>\n",
       "      <td>3.500000e+05</td>\n",
       "      <td>60000.000000</td>\n",
       "    </tr>\n",
       "    <tr>\n",
       "      <th>75%</th>\n",
       "      <td>2016.000000</td>\n",
       "      <td>6.000000e+05</td>\n",
       "      <td>90000.000000</td>\n",
       "    </tr>\n",
       "    <tr>\n",
       "      <th>max</th>\n",
       "      <td>2020.000000</td>\n",
       "      <td>8.900000e+06</td>\n",
       "      <td>806599.000000</td>\n",
       "    </tr>\n",
       "  </tbody>\n",
       "</table>\n",
       "</div>"
      ],
      "text/plain": [
       "              year  selling_price      km_driven\n",
       "count  4340.000000   4.340000e+03    4340.000000\n",
       "mean   2013.090783   5.041273e+05   66215.777419\n",
       "std       4.215344   5.785487e+05   46644.102194\n",
       "min    1992.000000   2.000000e+04       1.000000\n",
       "25%    2011.000000   2.087498e+05   35000.000000\n",
       "50%    2014.000000   3.500000e+05   60000.000000\n",
       "75%    2016.000000   6.000000e+05   90000.000000\n",
       "max    2020.000000   8.900000e+06  806599.000000"
      ]
     },
     "execution_count": 7,
     "metadata": {},
     "output_type": "execute_result"
    }
   ],
   "source": [
    "df.describe()"
   ]
  },
  {
   "cell_type": "code",
   "execution_count": 8,
   "id": "6358e4d8",
   "metadata": {},
   "outputs": [],
   "source": [
    "#number of years car is used\n",
    "df = df.assign(years_used = lambda x: (2022 - x['year']))"
   ]
  },
  {
   "cell_type": "code",
   "execution_count": 9,
   "id": "c72de73c",
   "metadata": {},
   "outputs": [
    {
     "data": {
      "text/html": [
       "<div>\n",
       "<style scoped>\n",
       "    .dataframe tbody tr th:only-of-type {\n",
       "        vertical-align: middle;\n",
       "    }\n",
       "\n",
       "    .dataframe tbody tr th {\n",
       "        vertical-align: top;\n",
       "    }\n",
       "\n",
       "    .dataframe thead th {\n",
       "        text-align: right;\n",
       "    }\n",
       "</style>\n",
       "<table border=\"1\" class=\"dataframe\">\n",
       "  <thead>\n",
       "    <tr style=\"text-align: right;\">\n",
       "      <th></th>\n",
       "      <th>name</th>\n",
       "      <th>year</th>\n",
       "      <th>selling_price</th>\n",
       "      <th>km_driven</th>\n",
       "      <th>fuel</th>\n",
       "      <th>seller_type</th>\n",
       "      <th>transmission</th>\n",
       "      <th>owner</th>\n",
       "      <th>years_used</th>\n",
       "    </tr>\n",
       "  </thead>\n",
       "  <tbody>\n",
       "    <tr>\n",
       "      <th>0</th>\n",
       "      <td>Maruti 800 AC</td>\n",
       "      <td>2007</td>\n",
       "      <td>60000</td>\n",
       "      <td>70000</td>\n",
       "      <td>Petrol</td>\n",
       "      <td>Individual</td>\n",
       "      <td>Manual</td>\n",
       "      <td>First Owner</td>\n",
       "      <td>15</td>\n",
       "    </tr>\n",
       "    <tr>\n",
       "      <th>1</th>\n",
       "      <td>Maruti Wagon R LXI Minor</td>\n",
       "      <td>2007</td>\n",
       "      <td>135000</td>\n",
       "      <td>50000</td>\n",
       "      <td>Petrol</td>\n",
       "      <td>Individual</td>\n",
       "      <td>Manual</td>\n",
       "      <td>First Owner</td>\n",
       "      <td>15</td>\n",
       "    </tr>\n",
       "    <tr>\n",
       "      <th>2</th>\n",
       "      <td>Hyundai Verna 1.6 SX</td>\n",
       "      <td>2012</td>\n",
       "      <td>600000</td>\n",
       "      <td>100000</td>\n",
       "      <td>Diesel</td>\n",
       "      <td>Individual</td>\n",
       "      <td>Manual</td>\n",
       "      <td>First Owner</td>\n",
       "      <td>10</td>\n",
       "    </tr>\n",
       "    <tr>\n",
       "      <th>3</th>\n",
       "      <td>Datsun RediGO T Option</td>\n",
       "      <td>2017</td>\n",
       "      <td>250000</td>\n",
       "      <td>46000</td>\n",
       "      <td>Petrol</td>\n",
       "      <td>Individual</td>\n",
       "      <td>Manual</td>\n",
       "      <td>First Owner</td>\n",
       "      <td>5</td>\n",
       "    </tr>\n",
       "    <tr>\n",
       "      <th>4</th>\n",
       "      <td>Honda Amaze VX i-DTEC</td>\n",
       "      <td>2014</td>\n",
       "      <td>450000</td>\n",
       "      <td>141000</td>\n",
       "      <td>Diesel</td>\n",
       "      <td>Individual</td>\n",
       "      <td>Manual</td>\n",
       "      <td>Second Owner</td>\n",
       "      <td>8</td>\n",
       "    </tr>\n",
       "  </tbody>\n",
       "</table>\n",
       "</div>"
      ],
      "text/plain": [
       "                       name  year  selling_price  km_driven    fuel  \\\n",
       "0             Maruti 800 AC  2007          60000      70000  Petrol   \n",
       "1  Maruti Wagon R LXI Minor  2007         135000      50000  Petrol   \n",
       "2      Hyundai Verna 1.6 SX  2012         600000     100000  Diesel   \n",
       "3    Datsun RediGO T Option  2017         250000      46000  Petrol   \n",
       "4     Honda Amaze VX i-DTEC  2014         450000     141000  Diesel   \n",
       "\n",
       "  seller_type transmission         owner  years_used  \n",
       "0  Individual       Manual   First Owner          15  \n",
       "1  Individual       Manual   First Owner          15  \n",
       "2  Individual       Manual   First Owner          10  \n",
       "3  Individual       Manual   First Owner           5  \n",
       "4  Individual       Manual  Second Owner           8  "
      ]
     },
     "execution_count": 9,
     "metadata": {},
     "output_type": "execute_result"
    }
   ],
   "source": [
    "df.head()"
   ]
  },
  {
   "cell_type": "code",
   "execution_count": 10,
   "id": "155adf72",
   "metadata": {},
   "outputs": [
    {
     "data": {
      "text/plain": [
       "array(['Maruti 800 AC', 'Maruti Wagon R LXI Minor',\n",
       "       'Hyundai Verna 1.6 SX', ..., 'Mahindra Verito 1.5 D6 BSIII',\n",
       "       'Toyota Innova 2.5 VX (Diesel) 8 Seater BS IV',\n",
       "       'Hyundai i20 Magna 1.4 CRDi'], dtype=object)"
      ]
     },
     "execution_count": 10,
     "metadata": {},
     "output_type": "execute_result"
    }
   ],
   "source": [
    "df[\"name\"].unique()"
   ]
  },
  {
   "cell_type": "code",
   "execution_count": 11,
   "id": "e93d5fa5",
   "metadata": {},
   "outputs": [
    {
     "data": {
      "text/plain": [
       "Index(['name', 'year', 'selling_price', 'km_driven', 'fuel', 'seller_type',\n",
       "       'transmission', 'owner', 'years_used'],\n",
       "      dtype='object')"
      ]
     },
     "execution_count": 11,
     "metadata": {},
     "output_type": "execute_result"
    }
   ],
   "source": [
    "#dropping the name column as it is not much usefull\n",
    "df.columns"
   ]
  },
  {
   "cell_type": "code",
   "execution_count": 12,
   "id": "f898f74a",
   "metadata": {},
   "outputs": [],
   "source": [
    "final_dataset = df[['year', 'selling_price', 'km_driven', 'fuel', 'seller_type',\n",
    "       'transmission', 'owner', 'years_used']]"
   ]
  },
  {
   "cell_type": "code",
   "execution_count": 13,
   "id": "9dbbaf6a",
   "metadata": {},
   "outputs": [
    {
     "data": {
      "text/html": [
       "<div>\n",
       "<style scoped>\n",
       "    .dataframe tbody tr th:only-of-type {\n",
       "        vertical-align: middle;\n",
       "    }\n",
       "\n",
       "    .dataframe tbody tr th {\n",
       "        vertical-align: top;\n",
       "    }\n",
       "\n",
       "    .dataframe thead th {\n",
       "        text-align: right;\n",
       "    }\n",
       "</style>\n",
       "<table border=\"1\" class=\"dataframe\">\n",
       "  <thead>\n",
       "    <tr style=\"text-align: right;\">\n",
       "      <th></th>\n",
       "      <th>year</th>\n",
       "      <th>selling_price</th>\n",
       "      <th>km_driven</th>\n",
       "      <th>fuel</th>\n",
       "      <th>seller_type</th>\n",
       "      <th>transmission</th>\n",
       "      <th>owner</th>\n",
       "      <th>years_used</th>\n",
       "    </tr>\n",
       "  </thead>\n",
       "  <tbody>\n",
       "    <tr>\n",
       "      <th>0</th>\n",
       "      <td>2007</td>\n",
       "      <td>60000</td>\n",
       "      <td>70000</td>\n",
       "      <td>Petrol</td>\n",
       "      <td>Individual</td>\n",
       "      <td>Manual</td>\n",
       "      <td>First Owner</td>\n",
       "      <td>15</td>\n",
       "    </tr>\n",
       "    <tr>\n",
       "      <th>1</th>\n",
       "      <td>2007</td>\n",
       "      <td>135000</td>\n",
       "      <td>50000</td>\n",
       "      <td>Petrol</td>\n",
       "      <td>Individual</td>\n",
       "      <td>Manual</td>\n",
       "      <td>First Owner</td>\n",
       "      <td>15</td>\n",
       "    </tr>\n",
       "    <tr>\n",
       "      <th>2</th>\n",
       "      <td>2012</td>\n",
       "      <td>600000</td>\n",
       "      <td>100000</td>\n",
       "      <td>Diesel</td>\n",
       "      <td>Individual</td>\n",
       "      <td>Manual</td>\n",
       "      <td>First Owner</td>\n",
       "      <td>10</td>\n",
       "    </tr>\n",
       "    <tr>\n",
       "      <th>3</th>\n",
       "      <td>2017</td>\n",
       "      <td>250000</td>\n",
       "      <td>46000</td>\n",
       "      <td>Petrol</td>\n",
       "      <td>Individual</td>\n",
       "      <td>Manual</td>\n",
       "      <td>First Owner</td>\n",
       "      <td>5</td>\n",
       "    </tr>\n",
       "    <tr>\n",
       "      <th>4</th>\n",
       "      <td>2014</td>\n",
       "      <td>450000</td>\n",
       "      <td>141000</td>\n",
       "      <td>Diesel</td>\n",
       "      <td>Individual</td>\n",
       "      <td>Manual</td>\n",
       "      <td>Second Owner</td>\n",
       "      <td>8</td>\n",
       "    </tr>\n",
       "  </tbody>\n",
       "</table>\n",
       "</div>"
      ],
      "text/plain": [
       "   year  selling_price  km_driven    fuel seller_type transmission  \\\n",
       "0  2007          60000      70000  Petrol  Individual       Manual   \n",
       "1  2007         135000      50000  Petrol  Individual       Manual   \n",
       "2  2012         600000     100000  Diesel  Individual       Manual   \n",
       "3  2017         250000      46000  Petrol  Individual       Manual   \n",
       "4  2014         450000     141000  Diesel  Individual       Manual   \n",
       "\n",
       "          owner  years_used  \n",
       "0   First Owner          15  \n",
       "1   First Owner          15  \n",
       "2   First Owner          10  \n",
       "3   First Owner           5  \n",
       "4  Second Owner           8  "
      ]
     },
     "execution_count": 13,
     "metadata": {},
     "output_type": "execute_result"
    }
   ],
   "source": [
    "final_dataset.head()"
   ]
  },
  {
   "cell_type": "code",
   "execution_count": 14,
   "id": "4302169e",
   "metadata": {},
   "outputs": [
    {
     "name": "stderr",
     "output_type": "stream",
     "text": [
      "C:\\Users\\Newton\\anaconda3\\envs\\carprediction\\lib\\site-packages\\pandas\\core\\frame.py:4913: SettingWithCopyWarning: \n",
      "A value is trying to be set on a copy of a slice from a DataFrame\n",
      "\n",
      "See the caveats in the documentation: https://pandas.pydata.org/pandas-docs/stable/user_guide/indexing.html#returning-a-view-versus-a-copy\n",
      "  errors=errors,\n"
     ]
    }
   ],
   "source": [
    "#dropping the year column\n",
    "final_dataset.drop([\"year\"],axis=1,inplace=True)"
   ]
  },
  {
   "cell_type": "code",
   "execution_count": 15,
   "id": "35116c3a",
   "metadata": {},
   "outputs": [
    {
     "data": {
      "text/html": [
       "<div>\n",
       "<style scoped>\n",
       "    .dataframe tbody tr th:only-of-type {\n",
       "        vertical-align: middle;\n",
       "    }\n",
       "\n",
       "    .dataframe tbody tr th {\n",
       "        vertical-align: top;\n",
       "    }\n",
       "\n",
       "    .dataframe thead th {\n",
       "        text-align: right;\n",
       "    }\n",
       "</style>\n",
       "<table border=\"1\" class=\"dataframe\">\n",
       "  <thead>\n",
       "    <tr style=\"text-align: right;\">\n",
       "      <th></th>\n",
       "      <th>selling_price</th>\n",
       "      <th>km_driven</th>\n",
       "      <th>fuel</th>\n",
       "      <th>seller_type</th>\n",
       "      <th>transmission</th>\n",
       "      <th>owner</th>\n",
       "      <th>years_used</th>\n",
       "    </tr>\n",
       "  </thead>\n",
       "  <tbody>\n",
       "    <tr>\n",
       "      <th>0</th>\n",
       "      <td>60000</td>\n",
       "      <td>70000</td>\n",
       "      <td>Petrol</td>\n",
       "      <td>Individual</td>\n",
       "      <td>Manual</td>\n",
       "      <td>First Owner</td>\n",
       "      <td>15</td>\n",
       "    </tr>\n",
       "    <tr>\n",
       "      <th>1</th>\n",
       "      <td>135000</td>\n",
       "      <td>50000</td>\n",
       "      <td>Petrol</td>\n",
       "      <td>Individual</td>\n",
       "      <td>Manual</td>\n",
       "      <td>First Owner</td>\n",
       "      <td>15</td>\n",
       "    </tr>\n",
       "    <tr>\n",
       "      <th>2</th>\n",
       "      <td>600000</td>\n",
       "      <td>100000</td>\n",
       "      <td>Diesel</td>\n",
       "      <td>Individual</td>\n",
       "      <td>Manual</td>\n",
       "      <td>First Owner</td>\n",
       "      <td>10</td>\n",
       "    </tr>\n",
       "    <tr>\n",
       "      <th>3</th>\n",
       "      <td>250000</td>\n",
       "      <td>46000</td>\n",
       "      <td>Petrol</td>\n",
       "      <td>Individual</td>\n",
       "      <td>Manual</td>\n",
       "      <td>First Owner</td>\n",
       "      <td>5</td>\n",
       "    </tr>\n",
       "    <tr>\n",
       "      <th>4</th>\n",
       "      <td>450000</td>\n",
       "      <td>141000</td>\n",
       "      <td>Diesel</td>\n",
       "      <td>Individual</td>\n",
       "      <td>Manual</td>\n",
       "      <td>Second Owner</td>\n",
       "      <td>8</td>\n",
       "    </tr>\n",
       "  </tbody>\n",
       "</table>\n",
       "</div>"
      ],
      "text/plain": [
       "   selling_price  km_driven    fuel seller_type transmission         owner  \\\n",
       "0          60000      70000  Petrol  Individual       Manual   First Owner   \n",
       "1         135000      50000  Petrol  Individual       Manual   First Owner   \n",
       "2         600000     100000  Diesel  Individual       Manual   First Owner   \n",
       "3         250000      46000  Petrol  Individual       Manual   First Owner   \n",
       "4         450000     141000  Diesel  Individual       Manual  Second Owner   \n",
       "\n",
       "   years_used  \n",
       "0          15  \n",
       "1          15  \n",
       "2          10  \n",
       "3           5  \n",
       "4           8  "
      ]
     },
     "execution_count": 15,
     "metadata": {},
     "output_type": "execute_result"
    }
   ],
   "source": [
    "final_dataset.head()"
   ]
  },
  {
   "cell_type": "code",
   "execution_count": 16,
   "id": "d2607ce2",
   "metadata": {},
   "outputs": [
    {
     "data": {
      "text/html": [
       "<div>\n",
       "<style scoped>\n",
       "    .dataframe tbody tr th:only-of-type {\n",
       "        vertical-align: middle;\n",
       "    }\n",
       "\n",
       "    .dataframe tbody tr th {\n",
       "        vertical-align: top;\n",
       "    }\n",
       "\n",
       "    .dataframe thead th {\n",
       "        text-align: right;\n",
       "    }\n",
       "</style>\n",
       "<table border=\"1\" class=\"dataframe\">\n",
       "  <thead>\n",
       "    <tr style=\"text-align: right;\">\n",
       "      <th></th>\n",
       "      <th>selling_price</th>\n",
       "      <th>km_driven</th>\n",
       "      <th>years_used</th>\n",
       "    </tr>\n",
       "  </thead>\n",
       "  <tbody>\n",
       "    <tr>\n",
       "      <th>count</th>\n",
       "      <td>4.340000e+03</td>\n",
       "      <td>4340.000000</td>\n",
       "      <td>4340.000000</td>\n",
       "    </tr>\n",
       "    <tr>\n",
       "      <th>mean</th>\n",
       "      <td>5.041273e+05</td>\n",
       "      <td>66215.777419</td>\n",
       "      <td>8.909217</td>\n",
       "    </tr>\n",
       "    <tr>\n",
       "      <th>std</th>\n",
       "      <td>5.785487e+05</td>\n",
       "      <td>46644.102194</td>\n",
       "      <td>4.215344</td>\n",
       "    </tr>\n",
       "    <tr>\n",
       "      <th>min</th>\n",
       "      <td>2.000000e+04</td>\n",
       "      <td>1.000000</td>\n",
       "      <td>2.000000</td>\n",
       "    </tr>\n",
       "    <tr>\n",
       "      <th>25%</th>\n",
       "      <td>2.087498e+05</td>\n",
       "      <td>35000.000000</td>\n",
       "      <td>6.000000</td>\n",
       "    </tr>\n",
       "    <tr>\n",
       "      <th>50%</th>\n",
       "      <td>3.500000e+05</td>\n",
       "      <td>60000.000000</td>\n",
       "      <td>8.000000</td>\n",
       "    </tr>\n",
       "    <tr>\n",
       "      <th>75%</th>\n",
       "      <td>6.000000e+05</td>\n",
       "      <td>90000.000000</td>\n",
       "      <td>11.000000</td>\n",
       "    </tr>\n",
       "    <tr>\n",
       "      <th>max</th>\n",
       "      <td>8.900000e+06</td>\n",
       "      <td>806599.000000</td>\n",
       "      <td>30.000000</td>\n",
       "    </tr>\n",
       "  </tbody>\n",
       "</table>\n",
       "</div>"
      ],
      "text/plain": [
       "       selling_price      km_driven   years_used\n",
       "count   4.340000e+03    4340.000000  4340.000000\n",
       "mean    5.041273e+05   66215.777419     8.909217\n",
       "std     5.785487e+05   46644.102194     4.215344\n",
       "min     2.000000e+04       1.000000     2.000000\n",
       "25%     2.087498e+05   35000.000000     6.000000\n",
       "50%     3.500000e+05   60000.000000     8.000000\n",
       "75%     6.000000e+05   90000.000000    11.000000\n",
       "max     8.900000e+06  806599.000000    30.000000"
      ]
     },
     "execution_count": 16,
     "metadata": {},
     "output_type": "execute_result"
    }
   ],
   "source": [
    "final_dataset.describe()"
   ]
  },
  {
   "cell_type": "code",
   "execution_count": 19,
   "id": "bca09252",
   "metadata": {},
   "outputs": [],
   "source": [
    "#doing one hot encoding for the categorical variables\n",
    "\n",
    "final_dataset= pd.get_dummies(final_dataset,drop_first=True)"
   ]
  },
  {
   "cell_type": "code",
   "execution_count": 20,
   "id": "2a795bcf",
   "metadata": {},
   "outputs": [
    {
     "data": {
      "text/html": [
       "<div>\n",
       "<style scoped>\n",
       "    .dataframe tbody tr th:only-of-type {\n",
       "        vertical-align: middle;\n",
       "    }\n",
       "\n",
       "    .dataframe tbody tr th {\n",
       "        vertical-align: top;\n",
       "    }\n",
       "\n",
       "    .dataframe thead th {\n",
       "        text-align: right;\n",
       "    }\n",
       "</style>\n",
       "<table border=\"1\" class=\"dataframe\">\n",
       "  <thead>\n",
       "    <tr style=\"text-align: right;\">\n",
       "      <th></th>\n",
       "      <th>selling_price</th>\n",
       "      <th>km_driven</th>\n",
       "      <th>years_used</th>\n",
       "      <th>fuel_Diesel</th>\n",
       "      <th>fuel_Electric</th>\n",
       "      <th>fuel_LPG</th>\n",
       "      <th>fuel_Petrol</th>\n",
       "      <th>seller_type_Individual</th>\n",
       "      <th>seller_type_Trustmark Dealer</th>\n",
       "      <th>transmission_Manual</th>\n",
       "      <th>owner_Fourth &amp; Above Owner</th>\n",
       "      <th>owner_Second Owner</th>\n",
       "      <th>owner_Test Drive Car</th>\n",
       "      <th>owner_Third Owner</th>\n",
       "    </tr>\n",
       "  </thead>\n",
       "  <tbody>\n",
       "    <tr>\n",
       "      <th>0</th>\n",
       "      <td>60000</td>\n",
       "      <td>70000</td>\n",
       "      <td>15</td>\n",
       "      <td>0</td>\n",
       "      <td>0</td>\n",
       "      <td>0</td>\n",
       "      <td>1</td>\n",
       "      <td>1</td>\n",
       "      <td>0</td>\n",
       "      <td>1</td>\n",
       "      <td>0</td>\n",
       "      <td>0</td>\n",
       "      <td>0</td>\n",
       "      <td>0</td>\n",
       "    </tr>\n",
       "    <tr>\n",
       "      <th>1</th>\n",
       "      <td>135000</td>\n",
       "      <td>50000</td>\n",
       "      <td>15</td>\n",
       "      <td>0</td>\n",
       "      <td>0</td>\n",
       "      <td>0</td>\n",
       "      <td>1</td>\n",
       "      <td>1</td>\n",
       "      <td>0</td>\n",
       "      <td>1</td>\n",
       "      <td>0</td>\n",
       "      <td>0</td>\n",
       "      <td>0</td>\n",
       "      <td>0</td>\n",
       "    </tr>\n",
       "    <tr>\n",
       "      <th>2</th>\n",
       "      <td>600000</td>\n",
       "      <td>100000</td>\n",
       "      <td>10</td>\n",
       "      <td>1</td>\n",
       "      <td>0</td>\n",
       "      <td>0</td>\n",
       "      <td>0</td>\n",
       "      <td>1</td>\n",
       "      <td>0</td>\n",
       "      <td>1</td>\n",
       "      <td>0</td>\n",
       "      <td>0</td>\n",
       "      <td>0</td>\n",
       "      <td>0</td>\n",
       "    </tr>\n",
       "    <tr>\n",
       "      <th>3</th>\n",
       "      <td>250000</td>\n",
       "      <td>46000</td>\n",
       "      <td>5</td>\n",
       "      <td>0</td>\n",
       "      <td>0</td>\n",
       "      <td>0</td>\n",
       "      <td>1</td>\n",
       "      <td>1</td>\n",
       "      <td>0</td>\n",
       "      <td>1</td>\n",
       "      <td>0</td>\n",
       "      <td>0</td>\n",
       "      <td>0</td>\n",
       "      <td>0</td>\n",
       "    </tr>\n",
       "    <tr>\n",
       "      <th>4</th>\n",
       "      <td>450000</td>\n",
       "      <td>141000</td>\n",
       "      <td>8</td>\n",
       "      <td>1</td>\n",
       "      <td>0</td>\n",
       "      <td>0</td>\n",
       "      <td>0</td>\n",
       "      <td>1</td>\n",
       "      <td>0</td>\n",
       "      <td>1</td>\n",
       "      <td>0</td>\n",
       "      <td>1</td>\n",
       "      <td>0</td>\n",
       "      <td>0</td>\n",
       "    </tr>\n",
       "  </tbody>\n",
       "</table>\n",
       "</div>"
      ],
      "text/plain": [
       "   selling_price  km_driven  years_used  fuel_Diesel  fuel_Electric  fuel_LPG  \\\n",
       "0          60000      70000          15            0              0         0   \n",
       "1         135000      50000          15            0              0         0   \n",
       "2         600000     100000          10            1              0         0   \n",
       "3         250000      46000           5            0              0         0   \n",
       "4         450000     141000           8            1              0         0   \n",
       "\n",
       "   fuel_Petrol  seller_type_Individual  seller_type_Trustmark Dealer  \\\n",
       "0            1                       1                             0   \n",
       "1            1                       1                             0   \n",
       "2            0                       1                             0   \n",
       "3            1                       1                             0   \n",
       "4            0                       1                             0   \n",
       "\n",
       "   transmission_Manual  owner_Fourth & Above Owner  owner_Second Owner  \\\n",
       "0                    1                           0                   0   \n",
       "1                    1                           0                   0   \n",
       "2                    1                           0                   0   \n",
       "3                    1                           0                   0   \n",
       "4                    1                           0                   1   \n",
       "\n",
       "   owner_Test Drive Car  owner_Third Owner  \n",
       "0                     0                  0  \n",
       "1                     0                  0  \n",
       "2                     0                  0  \n",
       "3                     0                  0  \n",
       "4                     0                  0  "
      ]
     },
     "execution_count": 20,
     "metadata": {},
     "output_type": "execute_result"
    }
   ],
   "source": [
    "final_dataset.head()"
   ]
  },
  {
   "cell_type": "code",
   "execution_count": 21,
   "id": "4bda0a3b",
   "metadata": {},
   "outputs": [
    {
     "data": {
      "image/png": "[encoded data removed]",
      "text/plain": [
       "<Figure size 1440x1440 with 2 Axes>"
      ]
     },
     "metadata": {
      "needs_background": "light"
     },
     "output_type": "display_data"
    }
   ],
   "source": [
    "#finding the correlation\n",
    "corrmat = final_dataset.corr()\n",
    "top_corr_features = corrmat.index\n",
    "plt.figure(figsize=(20,20))\n",
    "#pltting the heatmap\n",
    "h = sns.heatmap(final_dataset[top_corr_features].corr(),annot=True,cmap=\"RdYlGn\")"
   ]
  },
  {
   "cell_type": "markdown",
   "id": "69489406",
   "metadata": {},
   "source": [
    "#### We can observe that features are not much correlated in the data."
   ]
  },
  {
   "cell_type": "code",
   "execution_count": 22,
   "id": "e57344a3",
   "metadata": {},
   "outputs": [],
   "source": [
    "#dependent and independent features\n",
    "X = final_dataset.iloc[:,1:]\n",
    "y = final_dataset.iloc[:,0]"
   ]
  },
  {
   "cell_type": "code",
   "execution_count": 25,
   "id": "99a04c66",
   "metadata": {},
   "outputs": [
    {
     "data": {
      "text/plain": [
       "(4340, 13)"
      ]
     },
     "execution_count": 25,
     "metadata": {},
     "output_type": "execute_result"
    }
   ],
   "source": [
    "X.shape"
   ]
  },
  {
   "cell_type": "code",
   "execution_count": 26,
   "id": "5faac251",
   "metadata": {},
   "outputs": [
    {
     "data": {
      "text/plain": [
       "(4340,)"
      ]
     },
     "execution_count": 26,
     "metadata": {},
     "output_type": "execute_result"
    }
   ],
   "source": [
    "y.shape"
   ]
  },
  {
   "cell_type": "code",
   "execution_count": 27,
   "id": "22674783",
   "metadata": {},
   "outputs": [
    {
     "data": {
      "text/plain": [
       "ExtraTreesRegressor()"
      ]
     },
     "execution_count": 27,
     "metadata": {},
     "output_type": "execute_result"
    }
   ],
   "source": [
    "#feature importance\n",
    "from sklearn.ensemble import ExtraTreesRegressor\n",
    "model = ExtraTreesRegressor()\n",
    "model.fit(X,y)"
   ]
  },
  {
   "cell_type": "code",
   "execution_count": 28,
   "id": "5dde522a",
   "metadata": {},
   "outputs": [
    {
     "name": "stdout",
     "output_type": "stream",
     "text": [
      "[2.45476516e-01 2.47254888e-01 1.30042927e-01 6.26973012e-05\n",
      " 2.53892631e-05 2.07206659e-04 4.71908378e-02 8.81646912e-03\n",
      " 2.92832230e-01 7.80000286e-04 2.21727848e-02 5.74054657e-04\n",
      " 4.56399895e-03]\n"
     ]
    }
   ],
   "source": [
    "print(model.feature_importances_)"
   ]
  },
  {
   "cell_type": "code",
   "execution_count": 29,
   "id": "d19479ed",
   "metadata": {},
   "outputs": [
    {
     "data": {
      "image/png": "[encoded data removed]",
      "text/plain": [
       "<Figure size 432x288 with 1 Axes>"
      ]
     },
     "metadata": {
      "needs_background": "light"
     },
     "output_type": "display_data"
    }
   ],
   "source": [
    "#plot graph of feature importances for better visualization \n",
    "feat_importances = pd.Series(model.feature_importances_, index=X.columns)\n",
    "feat_importances.nlargest(5).plot(kind='barh') \n",
    "plt.show()"
   ]
  },
  {
   "cell_type": "code",
   "execution_count": 30,
   "id": "4ec619d8",
   "metadata": {},
   "outputs": [],
   "source": [
    "from sklearn.model_selection import train_test_split\n",
    "X_train, X_test, y_train, y_test = train_test_split(X,y,test_size=0.2)"
   ]
  },
  {
   "cell_type": "code",
   "execution_count": 31,
   "id": "9c105f49",
   "metadata": {},
   "outputs": [
    {
     "data": {
      "text/html": [
       "<div>\n",
       "<style scoped>\n",
       "    .dataframe tbody tr th:only-of-type {\n",
       "        vertical-align: middle;\n",
       "    }\n",
       "\n",
       "    .dataframe tbody tr th {\n",
       "        vertical-align: top;\n",
       "    }\n",
       "\n",
       "    .dataframe thead th {\n",
       "        text-align: right;\n",
       "    }\n",
       "</style>\n",
       "<table border=\"1\" class=\"dataframe\">\n",
       "  <thead>\n",
       "    <tr style=\"text-align: right;\">\n",
       "      <th></th>\n",
       "      <th>km_driven</th>\n",
       "      <th>years_used</th>\n",
       "      <th>fuel_Diesel</th>\n",
       "      <th>fuel_Electric</th>\n",
       "      <th>fuel_LPG</th>\n",
       "      <th>fuel_Petrol</th>\n",
       "      <th>seller_type_Individual</th>\n",
       "      <th>seller_type_Trustmark Dealer</th>\n",
       "      <th>transmission_Manual</th>\n",
       "      <th>owner_Fourth &amp; Above Owner</th>\n",
       "      <th>owner_Second Owner</th>\n",
       "      <th>owner_Test Drive Car</th>\n",
       "      <th>owner_Third Owner</th>\n",
       "    </tr>\n",
       "  </thead>\n",
       "  <tbody>\n",
       "    <tr>\n",
       "      <th>533</th>\n",
       "      <td>65000</td>\n",
       "      <td>8</td>\n",
       "      <td>1</td>\n",
       "      <td>0</td>\n",
       "      <td>0</td>\n",
       "      <td>0</td>\n",
       "      <td>0</td>\n",
       "      <td>0</td>\n",
       "      <td>1</td>\n",
       "      <td>0</td>\n",
       "      <td>0</td>\n",
       "      <td>0</td>\n",
       "      <td>0</td>\n",
       "    </tr>\n",
       "    <tr>\n",
       "      <th>2649</th>\n",
       "      <td>108000</td>\n",
       "      <td>11</td>\n",
       "      <td>1</td>\n",
       "      <td>0</td>\n",
       "      <td>0</td>\n",
       "      <td>0</td>\n",
       "      <td>1</td>\n",
       "      <td>0</td>\n",
       "      <td>1</td>\n",
       "      <td>0</td>\n",
       "      <td>1</td>\n",
       "      <td>0</td>\n",
       "      <td>0</td>\n",
       "    </tr>\n",
       "    <tr>\n",
       "      <th>3713</th>\n",
       "      <td>42494</td>\n",
       "      <td>5</td>\n",
       "      <td>1</td>\n",
       "      <td>0</td>\n",
       "      <td>0</td>\n",
       "      <td>0</td>\n",
       "      <td>0</td>\n",
       "      <td>0</td>\n",
       "      <td>1</td>\n",
       "      <td>0</td>\n",
       "      <td>0</td>\n",
       "      <td>0</td>\n",
       "      <td>0</td>\n",
       "    </tr>\n",
       "    <tr>\n",
       "      <th>3102</th>\n",
       "      <td>80000</td>\n",
       "      <td>10</td>\n",
       "      <td>1</td>\n",
       "      <td>0</td>\n",
       "      <td>0</td>\n",
       "      <td>0</td>\n",
       "      <td>1</td>\n",
       "      <td>0</td>\n",
       "      <td>1</td>\n",
       "      <td>0</td>\n",
       "      <td>1</td>\n",
       "      <td>0</td>\n",
       "      <td>0</td>\n",
       "    </tr>\n",
       "    <tr>\n",
       "      <th>3429</th>\n",
       "      <td>38000</td>\n",
       "      <td>4</td>\n",
       "      <td>1</td>\n",
       "      <td>0</td>\n",
       "      <td>0</td>\n",
       "      <td>0</td>\n",
       "      <td>1</td>\n",
       "      <td>0</td>\n",
       "      <td>1</td>\n",
       "      <td>0</td>\n",
       "      <td>1</td>\n",
       "      <td>0</td>\n",
       "      <td>0</td>\n",
       "    </tr>\n",
       "  </tbody>\n",
       "</table>\n",
       "</div>"
      ],
      "text/plain": [
       "      km_driven  years_used  fuel_Diesel  fuel_Electric  fuel_LPG  \\\n",
       "533       65000           8            1              0         0   \n",
       "2649     108000          11            1              0         0   \n",
       "3713      42494           5            1              0         0   \n",
       "3102      80000          10            1              0         0   \n",
       "3429      38000           4            1              0         0   \n",
       "\n",
       "      fuel_Petrol  seller_type_Individual  seller_type_Trustmark Dealer  \\\n",
       "533             0                       0                             0   \n",
       "2649            0                       1                             0   \n",
       "3713            0                       0                             0   \n",
       "3102            0                       1                             0   \n",
       "3429            0                       1                             0   \n",
       "\n",
       "      transmission_Manual  owner_Fourth & Above Owner  owner_Second Owner  \\\n",
       "533                     1                           0                   0   \n",
       "2649                    1                           0                   1   \n",
       "3713                    1                           0                   0   \n",
       "3102                    1                           0                   1   \n",
       "3429                    1                           0                   1   \n",
       "\n",
       "      owner_Test Drive Car  owner_Third Owner  \n",
       "533                      0                  0  \n",
       "2649                     0                  0  \n",
       "3713                     0                  0  \n",
       "3102                     0                  0  \n",
       "3429                     0                  0  "
      ]
     },
     "execution_count": 31,
     "metadata": {},
     "output_type": "execute_result"
    }
   ],
   "source": [
    "X_train.head()"
   ]
  },
  {
   "cell_type": "code",
   "execution_count": 32,
   "id": "3d604145",
   "metadata": {},
   "outputs": [
    {
     "data": {
      "text/plain": [
       "(3472, 13)"
      ]
     },
     "execution_count": 32,
     "metadata": {},
     "output_type": "execute_result"
    }
   ],
   "source": [
    "X_train.shape"
   ]
  },
  {
   "cell_type": "code",
   "execution_count": 33,
   "id": "b1d4493f",
   "metadata": {},
   "outputs": [],
   "source": [
    "#Building the model\n",
    "\n",
    "from sklearn.ensemble import RandomForestRegressor\n",
    "rf_random = RandomForestRegressor()"
   ]
  },
  {
   "cell_type": "code",
   "execution_count": 34,
   "id": "b292468e",
   "metadata": {},
   "outputs": [],
   "source": [
    "#Randomized Search CV\n",
    "#Hyperparamteres\n",
    "\n",
    "from sklearn.model_selection import RandomizedSearchCV\n",
    "\n",
    "# Number of trees in random forest\n",
    "n_estimators = [int(x) for x in np.linspace(start=100,stop=1200,num=12)]\n",
    "\n",
    "#Number of features to consider at every split\n",
    "max_features =[\"auto\",\"sqrt\"]\n",
    "\n",
    "#Maximum number of levels in tree\n",
    "max_depth = [int(x) for x in np.linspace(5,30,num=6)]\n",
    "\n",
    "#max_depth.append(None)\n",
    "#Minimum number of samples required to split a node\n",
    "min_samples_split = [2,5,10,15,100]\n",
    "#Minimum number of samples required at each leaf node\n",
    "min_samples_leaf = [1,2,5,10]"
   ]
  },
  {
   "cell_type": "code",
   "execution_count": 35,
   "id": "0d17845f",
   "metadata": {},
   "outputs": [
    {
     "name": "stdout",
     "output_type": "stream",
     "text": [
      "{'n_estimators': [100, 200, 300, 400, 500, 600, 700, 800, 900, 1000, 1100, 1200], 'max_features': ['auto', 'sqrt'], 'max_depth': [5, 10, 15, 20, 25, 30], 'min_samples_split': [2, 5, 10, 15, 100], 'min_samples_leaf': [1, 2, 5, 10]}\n"
     ]
    }
   ],
   "source": [
    "#creating the random grid\n",
    "random_grid = {\"n_estimators\":n_estimators,\n",
    "              \"max_features\":max_features,\n",
    "              \"max_depth\":max_depth,\n",
    "              \"min_samples_split\":min_samples_split,\n",
    "              \"min_samples_leaf\":min_samples_leaf}\n",
    "print(random_grid)"
   ]
  },
  {
   "cell_type": "code",
   "execution_count": 36,
   "id": "404ee104",
   "metadata": {},
   "outputs": [],
   "source": [
    "# use the random grid to search for best parameters\n",
    "# first create the base model to tune\n",
    "rf=RandomForestRegressor()"
   ]
  },
  {
   "cell_type": "code",
   "execution_count": 37,
   "id": "41b82e84",
   "metadata": {},
   "outputs": [],
   "source": [
    "rf_random = RandomizedSearchCV(estimator =rf, param_distributions=random_grid,scoring=\"neg_mean_squared_error\",n_iter=10,cv=5,verbose=2,random_state=42,n_jobs=1)"
   ]
  },
  {
   "cell_type": "code",
   "execution_count": 38,
   "id": "8a804d11",
   "metadata": {},
   "outputs": [
    {
     "name": "stdout",
     "output_type": "stream",
     "text": [
      "Fitting 5 folds for each of 10 candidates, totalling 50 fits\n",
      "[CV] END max_depth=10, max_features=sqrt, min_samples_leaf=5, min_samples_split=5, n_estimators=900; total time=   3.2s\n",
      "[CV] END max_depth=10, max_features=sqrt, min_samples_leaf=5, min_samples_split=5, n_estimators=900; total time=   3.0s\n",
      "[CV] END max_depth=10, max_features=sqrt, min_samples_leaf=5, min_samples_split=5, n_estimators=900; total time=   3.0s\n",
      "[CV] END max_depth=10, max_features=sqrt, min_samples_leaf=5, min_samples_split=5, n_estimators=900; total time=   3.0s\n",
      "[CV] END max_depth=10, max_features=sqrt, min_samples_leaf=5, min_samples_split=5, n_estimators=900; total time=   3.0s\n",
      "[CV] END max_depth=15, max_features=sqrt, min_samples_leaf=2, min_samples_split=10, n_estimators=1100; total time=   4.3s\n",
      "[CV] END max_depth=15, max_features=sqrt, min_samples_leaf=2, min_samples_split=10, n_estimators=1100; total time=   4.2s\n",
      "[CV] END max_depth=15, max_features=sqrt, min_samples_leaf=2, min_samples_split=10, n_estimators=1100; total time=   4.3s\n",
      "[CV] END max_depth=15, max_features=sqrt, min_samples_leaf=2, min_samples_split=10, n_estimators=1100; total time=   4.5s\n",
      "[CV] END max_depth=15, max_features=sqrt, min_samples_leaf=2, min_samples_split=10, n_estimators=1100; total time=   4.4s\n",
      "[CV] END max_depth=15, max_features=auto, min_samples_leaf=5, min_samples_split=100, n_estimators=300; total time=   1.4s\n",
      "[CV] END max_depth=15, max_features=auto, min_samples_leaf=5, min_samples_split=100, n_estimators=300; total time=   1.4s\n",
      "[CV] END max_depth=15, max_features=auto, min_samples_leaf=5, min_samples_split=100, n_estimators=300; total time=   1.4s\n",
      "[CV] END max_depth=15, max_features=auto, min_samples_leaf=5, min_samples_split=100, n_estimators=300; total time=   1.4s\n",
      "[CV] END max_depth=15, max_features=auto, min_samples_leaf=5, min_samples_split=100, n_estimators=300; total time=   1.3s\n",
      "[CV] END max_depth=15, max_features=auto, min_samples_leaf=5, min_samples_split=5, n_estimators=400; total time=   2.5s\n",
      "[CV] END max_depth=15, max_features=auto, min_samples_leaf=5, min_samples_split=5, n_estimators=400; total time=   2.3s\n",
      "[CV] END max_depth=15, max_features=auto, min_samples_leaf=5, min_samples_split=5, n_estimators=400; total time=   2.4s\n",
      "[CV] END max_depth=15, max_features=auto, min_samples_leaf=5, min_samples_split=5, n_estimators=400; total time=   2.5s\n",
      "[CV] END max_depth=15, max_features=auto, min_samples_leaf=5, min_samples_split=5, n_estimators=400; total time=   2.4s\n",
      "[CV] END max_depth=20, max_features=auto, min_samples_leaf=10, min_samples_split=5, n_estimators=700; total time=   3.9s\n",
      "[CV] END max_depth=20, max_features=auto, min_samples_leaf=10, min_samples_split=5, n_estimators=700; total time=   3.8s\n",
      "[CV] END max_depth=20, max_features=auto, min_samples_leaf=10, min_samples_split=5, n_estimators=700; total time=   3.8s\n",
      "[CV] END max_depth=20, max_features=auto, min_samples_leaf=10, min_samples_split=5, n_estimators=700; total time=   3.7s\n",
      "[CV] END max_depth=20, max_features=auto, min_samples_leaf=10, min_samples_split=5, n_estimators=700; total time=   3.8s\n",
      "[CV] END max_depth=25, max_features=sqrt, min_samples_leaf=1, min_samples_split=2, n_estimators=1000; total time=   5.8s\n",
      "[CV] END max_depth=25, max_features=sqrt, min_samples_leaf=1, min_samples_split=2, n_estimators=1000; total time=   6.0s\n",
      "[CV] END max_depth=25, max_features=sqrt, min_samples_leaf=1, min_samples_split=2, n_estimators=1000; total time=   5.8s\n",
      "[CV] END max_depth=25, max_features=sqrt, min_samples_leaf=1, min_samples_split=2, n_estimators=1000; total time=   6.0s\n",
      "[CV] END max_depth=25, max_features=sqrt, min_samples_leaf=1, min_samples_split=2, n_estimators=1000; total time=   6.0s\n",
      "[CV] END max_depth=5, max_features=sqrt, min_samples_leaf=10, min_samples_split=15, n_estimators=1100; total time=   3.1s\n",
      "[CV] END max_depth=5, max_features=sqrt, min_samples_leaf=10, min_samples_split=15, n_estimators=1100; total time=   3.1s\n",
      "[CV] END max_depth=5, max_features=sqrt, min_samples_leaf=10, min_samples_split=15, n_estimators=1100; total time=   3.2s\n",
      "[CV] END max_depth=5, max_features=sqrt, min_samples_leaf=10, min_samples_split=15, n_estimators=1100; total time=   3.1s\n",
      "[CV] END max_depth=5, max_features=sqrt, min_samples_leaf=10, min_samples_split=15, n_estimators=1100; total time=   3.2s\n",
      "[CV] END max_depth=15, max_features=sqrt, min_samples_leaf=1, min_samples_split=15, n_estimators=300; total time=   1.1s\n",
      "[CV] END max_depth=15, max_features=sqrt, min_samples_leaf=1, min_samples_split=15, n_estimators=300; total time=   1.2s\n",
      "[CV] END max_depth=15, max_features=sqrt, min_samples_leaf=1, min_samples_split=15, n_estimators=300; total time=   1.1s\n",
      "[CV] END max_depth=15, max_features=sqrt, min_samples_leaf=1, min_samples_split=15, n_estimators=300; total time=   1.1s\n",
      "[CV] END max_depth=15, max_features=sqrt, min_samples_leaf=1, min_samples_split=15, n_estimators=300; total time=   1.1s\n",
      "[CV] END max_depth=5, max_features=sqrt, min_samples_leaf=2, min_samples_split=10, n_estimators=700; total time=   2.4s\n",
      "[CV] END max_depth=5, max_features=sqrt, min_samples_leaf=2, min_samples_split=10, n_estimators=700; total time=   2.3s\n",
      "[CV] END max_depth=5, max_features=sqrt, min_samples_leaf=2, min_samples_split=10, n_estimators=700; total time=   2.5s\n",
      "[CV] END max_depth=5, max_features=sqrt, min_samples_leaf=2, min_samples_split=10, n_estimators=700; total time=   2.5s\n",
      "[CV] END max_depth=5, max_features=sqrt, min_samples_leaf=2, min_samples_split=10, n_estimators=700; total time=   2.3s\n",
      "[CV] END max_depth=20, max_features=auto, min_samples_leaf=1, min_samples_split=15, n_estimators=700; total time=   5.0s\n",
      "[CV] END max_depth=20, max_features=auto, min_samples_leaf=1, min_samples_split=15, n_estimators=700; total time=   4.8s\n",
      "[CV] END max_depth=20, max_features=auto, min_samples_leaf=1, min_samples_split=15, n_estimators=700; total time=   5.2s\n",
      "[CV] END max_depth=20, max_features=auto, min_samples_leaf=1, min_samples_split=15, n_estimators=700; total time=   5.0s\n",
      "[CV] END max_depth=20, max_features=auto, min_samples_leaf=1, min_samples_split=15, n_estimators=700; total time=   4.4s\n"
     ]
    },
    {
     "data": {
      "text/plain": [
       "RandomizedSearchCV(cv=5, estimator=RandomForestRegressor(), n_jobs=1,\n",
       "                   param_distributions={'max_depth': [5, 10, 15, 20, 25, 30],\n",
       "                                        'max_features': ['auto', 'sqrt'],\n",
       "                                        'min_samples_leaf': [1, 2, 5, 10],\n",
       "                                        'min_samples_split': [2, 5, 10, 15,\n",
       "                                                              100],\n",
       "                                        'n_estimators': [100, 200, 300, 400,\n",
       "                                                         500, 600, 700, 800,\n",
       "                                                         900, 1000, 1100,\n",
       "                                                         1200]},\n",
       "                   random_state=42, scoring='neg_mean_squared_error',\n",
       "                   verbose=2)"
      ]
     },
     "execution_count": 38,
     "metadata": {},
     "output_type": "execute_result"
    }
   ],
   "source": [
    "rf_random.fit(X_train,y_train)"
   ]
  },
  {
   "cell_type": "code",
   "execution_count": 39,
   "id": "0ddbbab8",
   "metadata": {},
   "outputs": [],
   "source": [
    "predictions = rf_random.predict(X_test)"
   ]
  },
  {
   "cell_type": "code",
   "execution_count": 40,
   "id": "7dd243b3",
   "metadata": {},
   "outputs": [
    {
     "data": {
      "text/plain": [
       "array([ 369089.37234359,   99997.66433988,  663058.46816315,\n",
       "        354140.2695923 ,  497074.55102762,  493924.12822565,\n",
       "       2468641.50907221,  303396.89483727,  250829.35420361,\n",
       "        419896.65053446,  135232.14675524,  449185.42588851,\n",
       "        257821.26935456,  355663.97604854, 1654461.97848934,\n",
       "        558124.49520393,  642749.59180667,  353484.78232148,\n",
       "        740331.31552298,  693719.65265509,  179320.86381826,\n",
       "        697370.08974878,  538741.36798381,  320090.48169667,\n",
       "        654042.58215057,  114747.07532004, 1613225.86447285,\n",
       "        932505.22027878,  220987.27713757,  296017.72485437,\n",
       "         99917.53049755, 1592716.14623095,  614765.9731754 ,\n",
       "       1195237.04371328,  471992.77568758, 2468641.50907221,\n",
       "        523352.4710315 ,  254340.19907276,  825806.86214995,\n",
       "        513036.20457249,  875933.67033412,  504453.87540814,\n",
       "        210882.82561961,  340936.11363178,  466896.3083647 ,\n",
       "        523648.12182522,  262424.20562523,  253076.00524474,\n",
       "       1326690.82405668,  100160.76665082, 1250347.0391323 ,\n",
       "        164147.71855811,  399870.16956299,  509345.46527076,\n",
       "        477426.40768876,  437261.64378015,  437517.36353746,\n",
       "        186553.06797713,  372103.92286887,   61732.13880214,\n",
       "        176187.99323544,  123127.74421833,  511248.22180971,\n",
       "         75909.68363652,  515419.03169483, 1448917.11038131,\n",
       "        225181.29747793,  596092.40283941,  260051.52767911,\n",
       "        435702.35773   ,  671299.61532431,  313849.33859506,\n",
       "        232813.33687913,  540937.18571019,  385900.09730158,\n",
       "        509345.46527076,  322914.9889394 ,  229979.74826038,\n",
       "        587031.50884119,  504897.55579937,  162737.1462821 ,\n",
       "        647109.07070033, 1135295.10856168, 1068112.63959895,\n",
       "        541186.5693709 ,  250816.20654305,  469382.04472198,\n",
       "       1326690.82405668,  350808.03287611,  990176.74666613,\n",
       "         77681.87260244, 1241716.77964983,  847035.65982545,\n",
       "        970277.19614193,  599652.99300896,  405730.80499864,\n",
       "        737687.79757719,  434102.59149092,  528364.09509866,\n",
       "        340069.8802155 ,  908007.63983762,  502763.57888239,\n",
       "        352444.97004202,  392028.32549778,   81766.13175379,\n",
       "        352444.97004202,  106793.84668683,  104692.80300122,\n",
       "        234553.85126531,  405122.02459887,  386941.87431982,\n",
       "        198043.42485795,  540937.18571019,  515121.56781356,\n",
       "        464129.13798281,  111521.1649117 ,  362112.73267649,\n",
       "        697148.69778308,  741508.90404152,   96839.25942275,\n",
       "        318743.40811816,  332266.75100464,  878477.97247933,\n",
       "        665976.48101389,  996621.69771919,  373517.47423958,\n",
       "        242064.06521877,  427923.8163458 ,  436075.9280156 ,\n",
       "        263038.30722307,  121704.96361096,   91049.99960212,\n",
       "        358641.92934365,  594065.33600905,  357582.9931726 ,\n",
       "        232813.33687913,  311157.99065005,  253639.83330805,\n",
       "        429473.94983613,  279313.55196557,  132220.08577771,\n",
       "        216900.66381363,  210171.15197781,  826709.17787188,\n",
       "        180072.28150657,  374605.85153123, 1073545.07377011,\n",
       "        295841.5901879 ,  161801.00829767,  671168.75783027,\n",
       "        120877.82957916,  426202.05830729,  376765.17626135,\n",
       "        308107.97365539, 2344506.63001694,  313986.39006635,\n",
       "        510481.70533986, 2468641.50907221,  207264.81314476,\n",
       "        200768.75723525,  411034.05586095,  301190.77140341,\n",
       "       3709730.66330768,  637426.03301595,  683001.4895496 ,\n",
       "        230356.39803143,  508612.96263736,   98391.97909348,\n",
       "        198301.33617062,  462537.9837278 ,  353238.57117953,\n",
       "       1091753.45759167,  786529.78730155,  319410.68601623,\n",
       "        696224.37235698,  684596.52740863,  511883.52648127,\n",
       "        599072.86340277,  208969.23800039, 1530833.20403741,\n",
       "       1838219.81475856,  458113.03729747,  292388.23120201,\n",
       "        454703.66095348,  274947.4566423 ,  315643.69338978,\n",
       "        232676.1274525 ,  100614.74309957,  458113.03729747,\n",
       "        272343.11016371,  330958.43862099,  294859.94740079,\n",
       "        658795.85648389,  479698.26130229,  279488.94127813,\n",
       "        104688.94962556,  438227.60113821, 1734739.21869393,\n",
       "        149042.81073093,  424288.34399608,  197637.98685197,\n",
       "        274034.45886463,  430286.80202128,  158313.01468509,\n",
       "        990176.74666613,  169224.660904  ,  740331.31552298,\n",
       "        826718.52497736,  373512.70156436,  261166.55079975,\n",
       "        172678.71854476, 1984714.33967958,   72628.95571905,\n",
       "        357582.9931726 ,  912147.90261478,  571425.94641475,\n",
       "        225046.17777622, 3709730.66330768,  277676.45856911,\n",
       "        691823.43835427,  405122.02459887,   80026.43465796,\n",
       "        144263.94202806,  263720.6311929 ,  678391.89551902,\n",
       "        510481.70533986,   81766.13175379,  436607.8777946 ,\n",
       "        256245.74665391,  391487.51793963,  102529.04380853,\n",
       "        214695.22344981,  429953.26829497,  957371.59954997,\n",
       "        280423.07309382,  308107.97365539,  417471.64677625,\n",
       "        451078.04079336,   69766.54876802,  237071.60977415,\n",
       "        527502.89334289,  118893.66563171,  146102.02815131,\n",
       "        198043.42485795,  323502.59973921,  420107.09607577,\n",
       "        421648.32696253,  162491.13022681,  357582.9931726 ,\n",
       "       1017310.90833681,  198301.33617062,  117918.21570388,\n",
       "        343574.60186218,  172678.71854476,  431688.42001899,\n",
       "       1796746.77551899, 1068112.63959895,  349763.50338084,\n",
       "        148006.82282276,  176974.42528124,  747133.42682369,\n",
       "       1114048.36228588,  237117.62589556,  716477.02424878,\n",
       "         72708.77665262,  273498.50460154,  263962.39340815,\n",
       "       1401033.50446867,  568381.81174466,  697673.61205581,\n",
       "        432952.93779894,  297298.23377164,  187046.437047  ,\n",
       "        219302.26681961,  397996.07637921,  348638.92164847,\n",
       "        774542.4613424 ,  412450.13919176,   91507.2265893 ,\n",
       "       1482916.68449721,  177868.53665488,  230104.9227314 ,\n",
       "        515419.03169483,  232813.33687913,  653846.04467945,\n",
       "        450937.37164287,  514651.78236033,  288953.70062248,\n",
       "        387100.36900767, 1342108.89077616,  340360.70824217,\n",
       "        172577.99882091,  530268.97471336,  198630.54183538,\n",
       "        862211.56713742,  826709.17787188,  513794.74941923,\n",
       "        481045.79114069,  304995.94963748,  568558.66172693,\n",
       "        110717.13265958,  595030.26344165, 1068112.63959895,\n",
       "       1038140.35719027,  663541.58701602, 1499494.07566936,\n",
       "        481641.44495518,  513036.20457249,  668934.73850276,\n",
       "       1068112.63959895,  132139.98657136,  957371.59954997,\n",
       "        423093.23848414,  415888.29910706,  287267.85154201,\n",
       "        380023.67329032,  513036.20457249,  152319.67630366,\n",
       "        817626.72221635,  152319.67630366,  582703.97961065,\n",
       "        252563.86817714,  180456.54885025,  516530.74528493,\n",
       "        353923.88885062,  442334.36164962,  568381.81174466,\n",
       "        439863.18532335,  697455.74387455,  508642.89102043,\n",
       "        860922.00356615,  702903.0194526 ,  535951.94978847,\n",
       "        229703.79388923,  541186.5693709 ,  200640.9325259 ,\n",
       "        399870.16956299,  400566.52591711,  595030.26344165,\n",
       "        433339.4440595 ,  121704.96361096,  292388.23120201,\n",
       "        380512.26417726,  317678.58965135,  658795.85648389,\n",
       "        460463.93606078,   64008.60444289,  230356.39803143,\n",
       "        300574.36781787,  332685.14148304,  108982.52945104,\n",
       "        548986.83015342,  300056.05611729,  462057.62356661,\n",
       "        562377.80221787,  160278.30185017,  204008.4200174 ,\n",
       "        427132.6927996 ,  353923.88885062,  494773.61227197,\n",
       "        349763.50338084,  280349.09632634,  339693.35301128,\n",
       "        471023.76398592,  365669.47168757,  266402.25869991,\n",
       "        405730.80499864,  186100.0287106 ,   99555.41987777,\n",
       "        633538.08679582,  466178.07670429,  322836.06255777,\n",
       "        475003.03962015,  697370.08974878,  413221.96617984,\n",
       "         68382.83699887,  369089.37234359,  229751.63854194,\n",
       "        199743.06071095,  374605.85153123,  487109.32757703,\n",
       "        529813.98448056,  222497.85303604, 1025670.88348951,\n",
       "        734700.36937475, 1611748.80422331,  332970.906245  ,\n",
       "        516924.24938781,  637011.21222728,  323603.54370679,\n",
       "        190702.97997339,  620965.5109867 ,  386707.23560079,\n",
       "        269393.7224571 ,  397996.07637921,  201790.06115794,\n",
       "        166249.90857735, 1806564.21306111,  249498.97801732,\n",
       "        569556.83038242,  678391.89551902,  278515.12471239,\n",
       "        847035.65982545,  322025.37695938,  549235.72594525,\n",
       "        424389.59261611,  677504.18057489,  488761.88416031,\n",
       "        237576.8256481 ,  625126.37103306,  217434.8296965 ,\n",
       "       3709730.66330768,  101034.43159808,  106466.47661905,\n",
       "        319826.60816935,  315100.36517949,  204791.28022167,\n",
       "        322914.9889394 ,  127374.20964756,  680960.95124341,\n",
       "        687470.95163802,  178664.33307563,  343679.39323149,\n",
       "        774542.4613424 , 1092772.0285871 ,  435982.88864127,\n",
       "        348638.92164847,  651847.98137155,  308541.87198178,\n",
       "        479698.26130229, 1308906.64866744,  206667.60311927,\n",
       "        223630.01045281,  651847.98137155,  110876.2449007 ,\n",
       "        368230.90677041,  224954.53939065,  336206.80085933,\n",
       "        502213.93534343,  205029.81906388,  242087.65433027,\n",
       "        589139.99033147,  329052.35178017,  654970.21649582,\n",
       "        242341.29942495,  356559.16899094, 2915261.18215889,\n",
       "        161101.53592582,  939814.14060422,  634334.19354531,\n",
       "        437352.32178333, 1116793.61821394,  183376.41226014,\n",
       "        699394.23586248,  598681.45528311,  367201.18150857,\n",
       "         98841.33039259,  456389.48240489,  415888.29910706,\n",
       "        651847.98137155,  492298.40317293,  273498.50460154,\n",
       "        551861.6773794 ,  387184.52916947, 2468641.50907221,\n",
       "        221952.00096187,  325363.52272113,  334006.21154101,\n",
       "        144627.09964448,  231743.92089701,  719391.60215008,\n",
       "        616280.07944632, 3709730.66330768,  207581.03751932,\n",
       "        106525.3505578 ,  414271.01512404,  477426.40768876,\n",
       "        767022.12203908, 2369494.19973059,  644191.24685981,\n",
       "       1592716.14623095,  673038.00907753, 2369494.19973059,\n",
       "        740331.31552298,  301190.77140341,  398025.55417391,\n",
       "        335465.14944391,  252162.21073596,  290649.06977963,\n",
       "       1025670.88348951,  697370.08974878,  401351.50714606,\n",
       "        367532.97823593,  315899.75519047,  492298.40317293,\n",
       "        157950.60828011, 1498060.73504001,  182057.81481799,\n",
       "        588564.23644069,  526364.59265157,  158495.85597384,\n",
       "        418420.07960511,  551861.6773794 ,  562542.0102385 ,\n",
       "        972794.26742777,  661008.29710107,  321877.03072195,\n",
       "        261552.63235107,  130705.23143927,  362310.49516683,\n",
       "        699979.22975495,  563282.33398927,  106466.47661905,\n",
       "        112743.63192469,  194172.97305921,  320090.48169667,\n",
       "        390941.09532457,  308541.87198178,  500682.89443172,\n",
       "        873694.00299854,  177868.53665488,  296017.72485437,\n",
       "       1068112.63959895, 1113002.7058078 ,  568980.40532432,\n",
       "        145198.45776236,  405730.80499864,  194602.03563014,\n",
       "        687542.49248963,  179381.81208715,  204409.29832726,\n",
       "        252128.37765374,  763953.81045262,   62795.4892519 ,\n",
       "        385129.8890202 ,  358641.92934365,  252003.1607543 ,\n",
       "        387184.52916947,  455672.8171825 ,  323603.54370679,\n",
       "        151016.65945058,  530527.00166409,  219719.43259064,\n",
       "        568476.29012565,  698003.19779712,  601574.47547238,\n",
       "       1113254.26490284, 4575536.00229202,  160956.04547319,\n",
       "        207581.03751932,  271760.05406179,  455672.8171825 ,\n",
       "        634334.19354531,  528811.85014648,  595030.26344165,\n",
       "        873694.00299854,  540447.99395155,  796008.15475712,\n",
       "        550537.7492889 ,  626517.60804174,  398025.55417391,\n",
       "        309868.67597649,  281021.12005208,  148481.64703673,\n",
       "        278147.26009088,   81766.13175379,  221952.00096187,\n",
       "        215210.0655072 ,  456389.48240489,  467563.10130928,\n",
       "        234553.85126531,  176913.22887922,  415888.29910706,\n",
       "        291157.85023832,  699394.23586248,  766424.41207473,\n",
       "        298693.03684787,  549235.72594525,  279387.29944115,\n",
       "        231412.07771887,  316796.77468725,  166249.90857735,\n",
       "        533905.44744821,  351430.01307438,  322025.37695938,\n",
       "        356739.14339998,  231663.50011894,  237118.70463391,\n",
       "        199386.09552336,  180393.81052018,  671227.85639837,\n",
       "       1569706.39142608,  178787.64707878,  214649.12437222,\n",
       "        661008.29710107,  765453.39716908,  362310.49516683,\n",
       "        258578.21664664,  209006.61194353,  874275.84622236,\n",
       "        203908.47119331,  323074.31189029,  323603.54370679,\n",
       "        441736.0159251 ,  167928.89798933,  228452.51120437,\n",
       "        505767.01137313,  264588.47634044,  488937.34664307,\n",
       "        166249.90857735,  547835.70288872,  576010.83568244,\n",
       "        477426.40768876,  442334.36164962,  273327.70349373,\n",
       "       1025984.43494279,  263720.6311929 ,  568558.66172693,\n",
       "       1437885.0400279 ,  158313.01468509,  543936.96522635,\n",
       "        697569.4306434 ,  534985.34735976, 1003223.79683709,\n",
       "        315646.04834271,  157274.78124943,  639696.09449251,\n",
       "        308107.97365539,  214695.22344981,  697673.61205581,\n",
       "        620965.5109867 ,  595153.12333623,  271760.05406179,\n",
       "        323502.59973921,  109800.8721867 ,  234434.25424045,\n",
       "        171579.65280888,  995484.04462985,   75012.00002959,\n",
       "       1326690.82405668,  574136.08934978,  374605.85153123,\n",
       "        224954.53939065,  533211.29067374,  912719.75420561,\n",
       "        790422.77231746,  456151.93381219,  369089.37234359,\n",
       "       4575536.00229202,  191132.29268418,  234179.57626288,\n",
       "        340487.80002688,  589324.78269126,  327674.1568836 ,\n",
       "        144627.09964448, 1005785.15124334,  414072.45348913,\n",
       "        201790.06115794,  541186.5693709 ,  417458.30404064,\n",
       "        202667.22308792, 1073545.07377011, 1576031.24911163,\n",
       "        539892.60176939,  352444.97004202,  453584.27150796,\n",
       "        477426.40768876,  595153.12333623,  553408.43870664,\n",
       "        674587.20528592,   94270.56083567, 1073258.63752053,\n",
       "        922524.63839484, 1706705.27604768,  132094.46167809,\n",
       "        327518.04577249,  203586.08958311,  259151.81261595,\n",
       "        117355.19858833,  612111.29285083,  114712.19907386,\n",
       "        212444.91221986,  319410.68601623,  348151.38578844,\n",
       "       1722886.98911444,   89425.46371634,  568412.88364934,\n",
       "        289556.12821225,  458113.03729747,  684205.92280391,\n",
       "        448442.48915898,  309868.67597649,  196799.69404673,\n",
       "        437352.32178333,  511176.25043075,  356559.16899094,\n",
       "        367201.18150857, 3332582.42875888,  417471.64677625,\n",
       "        583315.88148772,  638646.49719775, 1432956.90193941,\n",
       "        565518.24722421,  463493.34788938,  486777.78906845,\n",
       "        300397.9831412 ,  429953.26829497,  439170.99961425,\n",
       "        413402.22036073,  189064.38505059,  293945.58126481,\n",
       "        204409.29832726,  127615.40266663,  217498.89992474,\n",
       "        442334.36164962,  303356.60921466,   88478.09501844,\n",
       "        631095.50723585,  471023.76398592,  118972.67195631,\n",
       "        290554.53640583,  842836.84110584,  721212.0459569 ,\n",
       "        484522.06902829,  214649.12437222,  203586.08958311,\n",
       "        339577.74629037,  172577.99882091,  211290.02131955,\n",
       "        498279.44778628,  206733.32356902,  630752.05031609,\n",
       "        419193.35075996,  726279.6327404 ,  352292.79562295,\n",
       "        229822.07271031,  423199.64365215,  699394.23586248,\n",
       "        604919.09797999,  513036.20457249,  193715.47561615,\n",
       "        367456.62594404, 1498060.73504001,  317794.16623904,\n",
       "        289556.12821225,  788315.41111112,  343679.39323149,\n",
       "        231743.92089701,  318743.40811816,  847008.6129833 ,\n",
       "        320090.48169667,  323603.54370679,  295627.202821  ,\n",
       "        386894.03415472,  271760.05406179,  114205.36581031,\n",
       "        690360.40920076,  413402.22036073,  509345.46527076,\n",
       "        269636.1605953 ,  325565.54761921,  287410.07877492,\n",
       "        197235.51800808,  349644.31201593,  755213.73488499,\n",
       "        102529.04380853,  313986.39006635,  194230.4495328 ,\n",
       "        224954.53939065,  318743.40811816,  580177.36119052,\n",
       "         67229.422351  ,  206549.15409567,  276011.30575601,\n",
       "        733289.81279869,  286736.53294989,  890806.49440194,\n",
       "        150484.84429398,  234854.04305102,  763953.81045262,\n",
       "         93191.87933177,  122807.82907889,  920060.95457735,\n",
       "       1009348.38552462,  322914.9889394 ,  574153.36731735,\n",
       "        594061.26283917,  441814.49580863,  102256.55457011,\n",
       "        475003.03962015,  554728.90184451,  278515.12471239,\n",
       "        620965.5109867 , 1530833.20403741,  860922.00356615,\n",
       "        211596.57342444, 1326690.82405668,  460463.93606078,\n",
       "        248453.23460502,  367201.18150857,  308107.97365539,\n",
       "        205029.81906388,  405974.18722016,  737227.03670883,\n",
       "        132094.46167809,  521725.62992663,  697673.61205581,\n",
       "        165760.00724485,  412582.92076814,  356739.14339998,\n",
       "        620965.5109867 ,  158876.20437954,  924476.79685167,\n",
       "        124092.59965937,  160278.30185017,  132094.46167809,\n",
       "        341040.71333752,  595030.26344165,  582023.49282335,\n",
       "       1038140.35719027,  568412.88364934,  414072.45348913,\n",
       "        177781.14554597,  445653.64347386,  197349.57794467,\n",
       "        171616.11951395,  236690.91356772,  595030.26344165,\n",
       "       1834396.57061754,  437517.36353746,  487633.62387454,\n",
       "        718838.17774603,  261412.70366708,  516293.16889814,\n",
       "        352444.97004202,  882322.05643955,  367452.07920148,\n",
       "        348595.35274966,  167147.75451634,  582317.87415303,\n",
       "        344751.1833668 ,   81766.13175379,  348638.92164847,\n",
       "        678391.89551902,  595990.37618236,  399870.16956299,\n",
       "       1852129.14285846,  226560.04787153,  554928.22176657,\n",
       "        510815.75426074,  847035.65982545,  179823.48031599,\n",
       "        405941.67369283,   77839.20997646,  320660.3353679 ,\n",
       "        350159.14755023,  374605.85153123,  624252.07343842,\n",
       "        369927.62591734,  243696.22932894,   94270.56083567,\n",
       "        460463.93606078,  236861.34850455,  220987.27713757,\n",
       "         94270.56083567,  214845.26505671,  380253.39380841,\n",
       "        397996.07637921])"
      ]
     },
     "execution_count": 40,
     "metadata": {},
     "output_type": "execute_result"
    }
   ],
   "source": [
    "predictions"
   ]
  },
  {
   "cell_type": "code",
   "execution_count": 41,
   "id": "d6c13906",
   "metadata": {},
   "outputs": [
    {
     "name": "stderr",
     "output_type": "stream",
     "text": [
      "C:\\Users\\Newton\\anaconda3\\envs\\carprediction\\lib\\site-packages\\seaborn\\distributions.py:2619: FutureWarning: `distplot` is a deprecated function and will be removed in a future version. Please adapt your code to use either `displot` (a figure-level function with similar flexibility) or `histplot` (an axes-level function for histograms).\n",
      "  warnings.warn(msg, FutureWarning)\n"
     ]
    },
    {
     "data": {
      "text/plain": [
       "<AxesSubplot:xlabel='selling_price', ylabel='Density'>"
      ]
     },
     "execution_count": 41,
     "metadata": {},
     "output_type": "execute_result"
    },
    {
     "data": {
      "image/png": "[encoded data removed]",
      "text/plain": [
       "<Figure size 432x288 with 1 Axes>"
      ]
     },
     "metadata": {
      "needs_background": "light"
     },
     "output_type": "display_data"
    }
   ],
   "source": [
    "#comparing the pedictions\n",
    "sns.distplot(y_test-predictions)"
   ]
  },
  {
   "cell_type": "code",
   "execution_count": 42,
   "id": "6c87bd90",
   "metadata": {},
   "outputs": [
    {
     "data": {
      "text/plain": [
       "<matplotlib.collections.PathCollection at 0x1f8579fc308>"
      ]
     },
     "execution_count": 42,
     "metadata": {},
     "output_type": "execute_result"
    },
    {
     "data": {
      "image/png": "[encoded data removed]",
      "text/plain": [
       "<Figure size 432x288 with 1 Axes>"
      ]
     },
     "metadata": {
      "needs_background": "light"
     },
     "output_type": "display_data"
    }
   ],
   "source": [
    "#scatter plot\n",
    "plt.scatter(y_test,predictions)"
   ]
  },
  {
   "cell_type": "code",
   "execution_count": 43,
   "id": "269a4bbb",
   "metadata": {},
   "outputs": [
    {
     "data": {
      "text/plain": [
       "0.6527044146643368"
      ]
     },
     "execution_count": 43,
     "metadata": {},
     "output_type": "execute_result"
    }
   ],
   "source": [
    "from sklearn.metrics import r2_score\n",
    "r2_score(y_test,predictions)"
   ]
  },
  {
   "cell_type": "code",
   "execution_count": null,
   "id": "4ee3a061",
   "metadata": {},
   "outputs": [],
   "source": []
  }
 ],
 "metadata": {
  "kernelspec": {
   "display_name": "Python 3 (ipykernel)",
   "language": "python",
   "name": "python3"
  },
  "language_info": {
   "codemirror_mode": {
    "name": "ipython",
    "version": 3
   },
   "file_extension": ".py",
   "mimetype": "text/x-python",
   "name": "python",
   "nbconvert_exporter": "python",
   "pygments_lexer": "ipython3",
   "version": "3.7.11"
  }
 },
 "nbformat": 4,
 "nbformat_minor": 5
}
